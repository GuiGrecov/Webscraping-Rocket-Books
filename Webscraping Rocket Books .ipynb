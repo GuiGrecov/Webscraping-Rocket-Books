{
 "cells": [
  {
   "cell_type": "markdown",
   "id": "9e39436a",
   "metadata": {},
   "source": [
    "# Webscraping utilizando a Beatiful Soup \n",
    "\n",
    "1. Coletar os seguintes dados do site: https://books.toscrape.com/index.html\n",
    " - Cátalogo: \n",
    "  -- Classics \n",
    "  -- Science Fiction \n",
    "  -- Business \n",
    "  \n",
    " - Coletar os seguintes dados de cada livro \n",
    "  -- Nome do Livro \n",
    "  -- Preço em Libras \n",
    "  -- Disponível em estoque \n",
    "  \n",
    " \n",
    "\n",
    "2. Problema de Negócio \n",
    "\n",
    "O CEO da livraria ROCKET BOOKS precia saber o que seu concorrente está fazendo. No caso, a Rocket Books vende 3 gêneros de livros Classics, Science Fiction e Business. O CEO gostaria de um dataseet com o que o concorrente está vendendo sobre esses 3 gêneros. Mais uma lista com o preço para um comparativo, e se está ou não disponível no estoque. \n",
    "\n",
    "3. Entregável\n",
    " - Saída: Simulação da Tabela final e gráfico final \n",
    " - Processo: Sequência de passos organizada pela lógica e execução \n",
    " - Entrada: Link para as fontes de dados https://books.toscrape.com/index.html\n",
    " \n",
    "* Um csv com o pedido do CEO\n",
    "\n",
    "4. Resolva essas duas teses do CEO\n",
    "  * Os livros de gênero de negócios são os que tem a melhor avaliação? \n",
    "  * Os livros com maior preço médio são os que tem a melhor avaliação?"
   ]
  },
  {
   "cell_type": "markdown",
   "id": "16568925",
   "metadata": {},
   "source": [
    "## 0.0 Import"
   ]
  },
  {
   "cell_type": "code",
   "execution_count": 19,
   "id": "6eec96e6",
   "metadata": {},
   "outputs": [],
   "source": [
    "import requests\n",
    "import pandas as pd\n",
    "from datetime import datetime\n",
    "from bs4 import BeautifulSoup\n",
    "import numpy as np\n",
    "import math\n",
    "import seaborn as sns\n"
   ]
  },
  {
   "cell_type": "markdown",
   "id": "bc62246b",
   "metadata": {},
   "source": [
    "### 0.1 Fuctions"
   ]
  },
  {
   "cell_type": "code",
   "execution_count": 20,
   "id": "812233f5",
   "metadata": {},
   "outputs": [],
   "source": [
    "def arrumar_euro(lista): \n",
    "    for p in range(len(lista)):\n",
    "        lista[p] = float(lista[p].replace(\"Â£\", \"\").strip())\n",
    "    return lista"
   ]
  },
  {
   "cell_type": "markdown",
   "id": "0435a718",
   "metadata": {},
   "source": [
    "### 1.0 Reading Site"
   ]
  },
  {
   "cell_type": "markdown",
   "id": "6316218e",
   "metadata": {},
   "source": [
    "#### 1.1 GENRE CLASSIC"
   ]
  },
  {
   "cell_type": "code",
   "execution_count": 21,
   "id": "e47e7b50",
   "metadata": {},
   "outputs": [],
   "source": [
    "url_classic = 'https://books.toscrape.com/catalogue/category/books/classics_6/index.html'\n",
    "\n",
    "headers = {'User-Agent': 'Mozilla/5.0 (Windows NT 10.0; Win64; x64) , AppleWebKit/537.36 (KHTML, like Gecko) Chrome/96.0.4664.110 Safari/537.36'}\n",
    "page = requests.get( url_classic, headers=headers )\n",
    "soup = BeautifulSoup( page.text, \"html.parser\")\n",
    "\n",
    "classic = soup.find( \"ol\" , class_=\"row\")\n",
    "\n",
    "#=============================price=============================\n",
    "classic_price = classic.find_all(\"p\", class_=\"price_color\")\n",
    "price_classic = [p.get_text() for p in classic_price]\n",
    "\n",
    "#ajuste de variáveis\n",
    "price_classic = arrumar_euro(price_classic)\n",
    "\n",
    "\n",
    "#==========================name==============================\n",
    "classic_name = classic.find_all(\"h3\")\n",
    "name_classic = [p.get_text() for p in classic_name]\n",
    "\n",
    "\n",
    "#=========================rating score=========================\n",
    "products = soup.find(\"div\", class_=\"col-sm-8 col-md-9\")\n",
    "products_list = products.find_all(\"p\", class_=\"star-rating\")\n",
    "\n",
    "#Costumer Avaliable\n",
    "ca = [p.get(\"class\") for p in products_list]\n",
    "drop = lambda x: x.remove(\"star-rating\")\n",
    "list(map(drop, ca))\n",
    "\n",
    "\n",
    "#===================disponível em estoque====================\n",
    "classic_est = classic.find_all(\"p\", class_=\"instock availability\")\n",
    "classic_est = [ list(filter(None, p.get_text().split(\"\\n\"))) for p in classic_est]\n",
    "\n",
    "#new variable \n",
    "est_classic = []\n",
    "for p in range(len(classic_est)):\n",
    "               est_classic.append(classic_est[p][1].strip())\n",
    "\n",
    "        \n",
    "\n",
    "data_classic = pd.DataFrame([name_classic, est_classic, price_classic, ca]).T\n",
    "data_classic.columns = [\"name\", \"storage\", \"price [£]\", \"rating\"]\n",
    "        \n",
    "valor1 = \"\"\n",
    "valor = \"\"\n",
    "\n",
    "for p in range(len(data_classic)): \n",
    "    valor = data_classic[\"rating\"][p]\n",
    "    valor1= valor[0] \n",
    "    data_classic[\"rating\"][p] = valor1  \n",
    "    \n",
    "data_classic[\"genre\"] = \"Classic\""
   ]
  },
  {
   "cell_type": "markdown",
   "id": "24d26dc2",
   "metadata": {},
   "source": [
    "### 1.2 Science Ficition"
   ]
  },
  {
   "cell_type": "code",
   "execution_count": 22,
   "id": "a3cbb08b",
   "metadata": {},
   "outputs": [],
   "source": [
    "url_classic = 'https://books.toscrape.com/catalogue/category/books/science-fiction_16/index.html'\n",
    "\n",
    "headers = {'User-Agent': 'Mozilla/5.0 (Windows NT 10.0; Win64; x64) , AppleWebKit/537.36 (KHTML, like Gecko) Chrome/96.0.4664.110 Safari/537.36'}\n",
    "page = requests.get( url_classic, headers=headers )\n",
    "soup = BeautifulSoup( page.text, \"html.parser\")\n",
    "\n",
    "classic = soup.find( \"ol\" , class_=\"row\")\n",
    "\n",
    "#=============================price=============================\n",
    "classic_price = classic.find_all(\"p\", class_=\"price_color\")\n",
    "price_classic = [p.get_text() for p in classic_price]\n",
    "\n",
    "#ajuste de variáveis\n",
    "price_classic = arrumar_euro(price_classic)\n",
    "\n",
    "\n",
    "#==========================name==============================\n",
    "classic_name = classic.find_all(\"h3\")\n",
    "name_classic = [p.get_text() for p in classic_name]\n",
    "\n",
    "\n",
    "#=========================rating score=========================\n",
    "products = soup.find(\"div\", class_=\"col-sm-8 col-md-9\")\n",
    "products_list = products.find_all(\"p\", class_=\"star-rating\")\n",
    "\n",
    "#Costumer Avaliable\n",
    "ca = [p.get(\"class\") for p in products_list]\n",
    "drop = lambda x: x.remove(\"star-rating\")\n",
    "list(map(drop, ca))\n",
    "\n",
    "\n",
    "#===================disponível em estoque====================\n",
    "classic_est = classic.find_all(\"p\", class_=\"instock availability\")\n",
    "classic_est = [ list(filter(None, p.get_text().split(\"\\n\"))) for p in classic_est]\n",
    "\n",
    "#new variable \n",
    "est_classic = []\n",
    "for p in range(len(classic_est)):\n",
    "               est_classic.append(classic_est[p][1].strip())\n",
    "\n",
    "\n",
    "\n",
    "\n",
    "data_science = pd.DataFrame([name_classic, est_classic, price_classic, ca]).T\n",
    "data_science.columns = [\"name\", \"storage\", \"price [£]\", \"rating\"]\n",
    "        \n",
    "valor1 = \"\"\n",
    "valor = \"\"\n",
    "\n",
    "for p in range(len(data_science)): \n",
    "    valor = data_science[\"rating\"][p]\n",
    "    valor1= valor[0] \n",
    "    data_science[\"rating\"][p] = valor1  \n",
    "    \n",
    "data_science[\"genre\"] = \"Science Fiction\""
   ]
  },
  {
   "cell_type": "markdown",
   "id": "f7a65e8a",
   "metadata": {},
   "source": [
    "### 1.3 Genre Business"
   ]
  },
  {
   "cell_type": "code",
   "execution_count": 23,
   "id": "ee469080",
   "metadata": {},
   "outputs": [],
   "source": [
    "url_classic = 'https://books.toscrape.com/catalogue/category/books/business_35/index.html'\n",
    "\n",
    "headers = {'User-Agent': 'Mozilla/5.0 (Windows NT 10.0; Win64; x64) , AppleWebKit/537.36 (KHTML, like Gecko) Chrome/96.0.4664.110 Safari/537.36'}\n",
    "page = requests.get( url_classic, headers=headers )\n",
    "soup = BeautifulSoup( page.text, \"html.parser\")\n",
    "\n",
    "classic = soup.find( \"ol\" , class_=\"row\")\n",
    "\n",
    "#=============================price=============================\n",
    "classic_price = classic.find_all(\"p\", class_=\"price_color\")\n",
    "price_classic = [p.get_text() for p in classic_price]\n",
    "\n",
    "#ajuste de variáveis\n",
    "price_classic = arrumar_euro(price_classic)\n",
    "\n",
    "\n",
    "#==========================name==============================\n",
    "classic_name = classic.find_all(\"h3\")\n",
    "name_classic = [p.get_text() for p in classic_name]\n",
    "\n",
    "\n",
    "#=========================rating score=========================\n",
    "products = soup.find(\"div\", class_=\"col-sm-8 col-md-9\")\n",
    "products_list = products.find_all(\"p\", class_=\"star-rating\")\n",
    "\n",
    "#Costumer Avaliable\n",
    "ca = [p.get(\"class\") for p in products_list]\n",
    "drop = lambda x: x.remove(\"star-rating\")\n",
    "list(map(drop, ca))\n",
    "\n",
    "\n",
    "#===================disponível em estoque====================\n",
    "classic_est = classic.find_all(\"p\", class_=\"instock availability\")\n",
    "classic_est = [ list(filter(None, p.get_text().split(\"\\n\"))) for p in classic_est]\n",
    "\n",
    "#new variable \n",
    "est_classic = []\n",
    "for p in range(len(classic_est)):\n",
    "               est_classic.append(classic_est[p][1].strip())\n",
    "\n",
    "\n",
    "data_bus = pd.DataFrame([name_classic, est_classic, price_classic, ca]).T\n",
    "data_bus.columns = [\"name\", \"storage\", \"price [£]\", \"rating\"]\n",
    "        \n",
    "valor1 = \"\"\n",
    "valor = \"\"\n",
    "\n",
    "for p in range(len(data_bus)): \n",
    "    valor = data_bus[\"rating\"][p]\n",
    "    valor1= valor[0] \n",
    "    data_bus[\"rating\"][p] = valor1    \n",
    "    \n",
    "\n",
    "data_bus[\"genre\"] = \"Business\""
   ]
  },
  {
   "cell_type": "markdown",
   "id": "2eead5d3",
   "metadata": {},
   "source": [
    "### 1.4 All Dataframes"
   ]
  },
  {
   "cell_type": "code",
   "execution_count": 24,
   "id": "1a91cf8a",
   "metadata": {},
   "outputs": [],
   "source": [
    "data_total = pd.merge(data_classic,data_bus, how = 'outer')\n",
    "data_total = pd.merge(data_total, data_science, how = 'outer')"
   ]
  },
  {
   "cell_type": "code",
   "execution_count": 25,
   "id": "170c2438",
   "metadata": {},
   "outputs": [],
   "source": [
    "data_total[\"rating_number\"] = data_total[\"rating\"].apply(lambda x: 1 if x == \"One\" else \n",
    "                                                   2 if x== \"Two\" else \n",
    "                                                  3 if x == \"Three\" else \n",
    "                                                  4 if x == \"Four\" else \n",
    "                                                  5)"
   ]
  },
  {
   "cell_type": "code",
   "execution_count": 37,
   "id": "c7612bb7",
   "metadata": {},
   "outputs": [
    {
     "data": {
      "text/plain": [
       "name             object\n",
       "storage          object\n",
       "price [£]        object\n",
       "rating           object\n",
       "genre            object\n",
       "rating_number     int64\n",
       "dtype: object"
      ]
     },
     "execution_count": 37,
     "metadata": {},
     "output_type": "execute_result"
    }
   ],
   "source": [
    "data_total.dtypes"
   ]
  },
  {
   "cell_type": "code",
   "execution_count": 26,
   "id": "112e9da2",
   "metadata": {},
   "outputs": [
    {
     "data": {
      "text/html": [
       "<div>\n",
       "<style scoped>\n",
       "    .dataframe tbody tr th:only-of-type {\n",
       "        vertical-align: middle;\n",
       "    }\n",
       "\n",
       "    .dataframe tbody tr th {\n",
       "        vertical-align: top;\n",
       "    }\n",
       "\n",
       "    .dataframe thead th {\n",
       "        text-align: right;\n",
       "    }\n",
       "</style>\n",
       "<table border=\"1\" class=\"dataframe\">\n",
       "  <thead>\n",
       "    <tr style=\"text-align: right;\">\n",
       "      <th></th>\n",
       "      <th>name</th>\n",
       "      <th>storage</th>\n",
       "      <th>price [£]</th>\n",
       "      <th>rating</th>\n",
       "      <th>genre</th>\n",
       "      <th>rating_number</th>\n",
       "    </tr>\n",
       "  </thead>\n",
       "  <tbody>\n",
       "    <tr>\n",
       "      <th>0</th>\n",
       "      <td>The Secret Garden</td>\n",
       "      <td>In stock</td>\n",
       "      <td>15.08</td>\n",
       "      <td>Four</td>\n",
       "      <td>Classic</td>\n",
       "      <td>4</td>\n",
       "    </tr>\n",
       "    <tr>\n",
       "      <th>1</th>\n",
       "      <td>The Metamorphosis</td>\n",
       "      <td>In stock</td>\n",
       "      <td>28.58</td>\n",
       "      <td>One</td>\n",
       "      <td>Classic</td>\n",
       "      <td>1</td>\n",
       "    </tr>\n",
       "    <tr>\n",
       "      <th>2</th>\n",
       "      <td>The Pilgrim's Progress</td>\n",
       "      <td>In stock</td>\n",
       "      <td>50.26</td>\n",
       "      <td>Two</td>\n",
       "      <td>Classic</td>\n",
       "      <td>2</td>\n",
       "    </tr>\n",
       "    <tr>\n",
       "      <th>3</th>\n",
       "      <td>The Hound of the ...</td>\n",
       "      <td>In stock</td>\n",
       "      <td>14.82</td>\n",
       "      <td>Two</td>\n",
       "      <td>Classic</td>\n",
       "      <td>2</td>\n",
       "    </tr>\n",
       "    <tr>\n",
       "      <th>4</th>\n",
       "      <td>Little Women (Little Women ...</td>\n",
       "      <td>In stock</td>\n",
       "      <td>28.07</td>\n",
       "      <td>Four</td>\n",
       "      <td>Classic</td>\n",
       "      <td>4</td>\n",
       "    </tr>\n",
       "    <tr>\n",
       "      <th>5</th>\n",
       "      <td>Gone with the Wind</td>\n",
       "      <td>In stock</td>\n",
       "      <td>32.49</td>\n",
       "      <td>Three</td>\n",
       "      <td>Classic</td>\n",
       "      <td>3</td>\n",
       "    </tr>\n",
       "    <tr>\n",
       "      <th>6</th>\n",
       "      <td>Candide</td>\n",
       "      <td>In stock</td>\n",
       "      <td>58.63</td>\n",
       "      <td>Three</td>\n",
       "      <td>Classic</td>\n",
       "      <td>3</td>\n",
       "    </tr>\n",
       "    <tr>\n",
       "      <th>7</th>\n",
       "      <td>Animal Farm</td>\n",
       "      <td>In stock</td>\n",
       "      <td>57.22</td>\n",
       "      <td>Three</td>\n",
       "      <td>Classic</td>\n",
       "      <td>3</td>\n",
       "    </tr>\n",
       "    <tr>\n",
       "      <th>8</th>\n",
       "      <td>Wuthering Heights</td>\n",
       "      <td>In stock</td>\n",
       "      <td>17.73</td>\n",
       "      <td>Three</td>\n",
       "      <td>Classic</td>\n",
       "      <td>3</td>\n",
       "    </tr>\n",
       "    <tr>\n",
       "      <th>9</th>\n",
       "      <td>The Picture of Dorian ...</td>\n",
       "      <td>In stock</td>\n",
       "      <td>29.7</td>\n",
       "      <td>Two</td>\n",
       "      <td>Classic</td>\n",
       "      <td>2</td>\n",
       "    </tr>\n",
       "    <tr>\n",
       "      <th>10</th>\n",
       "      <td>The Complete Stories and ...</td>\n",
       "      <td>In stock</td>\n",
       "      <td>26.78</td>\n",
       "      <td>Four</td>\n",
       "      <td>Classic</td>\n",
       "      <td>4</td>\n",
       "    </tr>\n",
       "    <tr>\n",
       "      <th>11</th>\n",
       "      <td>Beowulf</td>\n",
       "      <td>In stock</td>\n",
       "      <td>38.35</td>\n",
       "      <td>Two</td>\n",
       "      <td>Classic</td>\n",
       "      <td>2</td>\n",
       "    </tr>\n",
       "    <tr>\n",
       "      <th>12</th>\n",
       "      <td>And Then There Were ...</td>\n",
       "      <td>In stock</td>\n",
       "      <td>35.01</td>\n",
       "      <td>Two</td>\n",
       "      <td>Classic</td>\n",
       "      <td>2</td>\n",
       "    </tr>\n",
       "    <tr>\n",
       "      <th>13</th>\n",
       "      <td>The Story of Hong ...</td>\n",
       "      <td>In stock</td>\n",
       "      <td>43.19</td>\n",
       "      <td>Four</td>\n",
       "      <td>Classic</td>\n",
       "      <td>4</td>\n",
       "    </tr>\n",
       "    <tr>\n",
       "      <th>14</th>\n",
       "      <td>The Little Prince</td>\n",
       "      <td>In stock</td>\n",
       "      <td>45.42</td>\n",
       "      <td>Two</td>\n",
       "      <td>Classic</td>\n",
       "      <td>2</td>\n",
       "    </tr>\n",
       "    <tr>\n",
       "      <th>15</th>\n",
       "      <td>Sense and Sensibility</td>\n",
       "      <td>In stock</td>\n",
       "      <td>37.46</td>\n",
       "      <td>One</td>\n",
       "      <td>Classic</td>\n",
       "      <td>1</td>\n",
       "    </tr>\n",
       "    <tr>\n",
       "      <th>16</th>\n",
       "      <td>Of Mice and Men</td>\n",
       "      <td>In stock</td>\n",
       "      <td>47.11</td>\n",
       "      <td>Two</td>\n",
       "      <td>Classic</td>\n",
       "      <td>2</td>\n",
       "    </tr>\n",
       "    <tr>\n",
       "      <th>17</th>\n",
       "      <td>Emma</td>\n",
       "      <td>In stock</td>\n",
       "      <td>32.93</td>\n",
       "      <td>Two</td>\n",
       "      <td>Classic</td>\n",
       "      <td>2</td>\n",
       "    </tr>\n",
       "    <tr>\n",
       "      <th>18</th>\n",
       "      <td>Alice in Wonderland (Alice's ...</td>\n",
       "      <td>In stock</td>\n",
       "      <td>55.53</td>\n",
       "      <td>One</td>\n",
       "      <td>Classic</td>\n",
       "      <td>1</td>\n",
       "    </tr>\n",
       "    <tr>\n",
       "      <th>19</th>\n",
       "      <td>The Dirty Little Secrets ...</td>\n",
       "      <td>In stock</td>\n",
       "      <td>33.34</td>\n",
       "      <td>Four</td>\n",
       "      <td>Business</td>\n",
       "      <td>4</td>\n",
       "    </tr>\n",
       "    <tr>\n",
       "      <th>20</th>\n",
       "      <td>The Third Wave: An ...</td>\n",
       "      <td>In stock</td>\n",
       "      <td>12.61</td>\n",
       "      <td>Five</td>\n",
       "      <td>Business</td>\n",
       "      <td>5</td>\n",
       "    </tr>\n",
       "    <tr>\n",
       "      <th>21</th>\n",
       "      <td>The 10% Entrepreneur: Live ...</td>\n",
       "      <td>In stock</td>\n",
       "      <td>27.55</td>\n",
       "      <td>Three</td>\n",
       "      <td>Business</td>\n",
       "      <td>3</td>\n",
       "    </tr>\n",
       "    <tr>\n",
       "      <th>22</th>\n",
       "      <td>Shoe Dog: A Memoir ...</td>\n",
       "      <td>In stock</td>\n",
       "      <td>23.99</td>\n",
       "      <td>Two</td>\n",
       "      <td>Business</td>\n",
       "      <td>2</td>\n",
       "    </tr>\n",
       "    <tr>\n",
       "      <th>23</th>\n",
       "      <td>Made to Stick: Why ...</td>\n",
       "      <td>In stock</td>\n",
       "      <td>38.85</td>\n",
       "      <td>Five</td>\n",
       "      <td>Business</td>\n",
       "      <td>5</td>\n",
       "    </tr>\n",
       "    <tr>\n",
       "      <th>24</th>\n",
       "      <td>Quench Your Own Thirst: ...</td>\n",
       "      <td>In stock</td>\n",
       "      <td>43.14</td>\n",
       "      <td>One</td>\n",
       "      <td>Business</td>\n",
       "      <td>1</td>\n",
       "    </tr>\n",
       "    <tr>\n",
       "      <th>25</th>\n",
       "      <td>The Art of Startup ...</td>\n",
       "      <td>In stock</td>\n",
       "      <td>21.0</td>\n",
       "      <td>Three</td>\n",
       "      <td>Business</td>\n",
       "      <td>3</td>\n",
       "    </tr>\n",
       "    <tr>\n",
       "      <th>26</th>\n",
       "      <td>Born for This: How ...</td>\n",
       "      <td>In stock</td>\n",
       "      <td>21.59</td>\n",
       "      <td>Five</td>\n",
       "      <td>Business</td>\n",
       "      <td>5</td>\n",
       "    </tr>\n",
       "    <tr>\n",
       "      <th>27</th>\n",
       "      <td>The E-Myth Revisited: Why ...</td>\n",
       "      <td>In stock</td>\n",
       "      <td>36.91</td>\n",
       "      <td>One</td>\n",
       "      <td>Business</td>\n",
       "      <td>1</td>\n",
       "    </tr>\n",
       "    <tr>\n",
       "      <th>28</th>\n",
       "      <td>Rich Dad, Poor Dad</td>\n",
       "      <td>In stock</td>\n",
       "      <td>51.74</td>\n",
       "      <td>One</td>\n",
       "      <td>Business</td>\n",
       "      <td>1</td>\n",
       "    </tr>\n",
       "    <tr>\n",
       "      <th>29</th>\n",
       "      <td>The Lean Startup: How ...</td>\n",
       "      <td>In stock</td>\n",
       "      <td>33.92</td>\n",
       "      <td>Three</td>\n",
       "      <td>Business</td>\n",
       "      <td>3</td>\n",
       "    </tr>\n",
       "    <tr>\n",
       "      <th>30</th>\n",
       "      <td>Rework</td>\n",
       "      <td>In stock</td>\n",
       "      <td>44.88</td>\n",
       "      <td>Two</td>\n",
       "      <td>Business</td>\n",
       "      <td>2</td>\n",
       "    </tr>\n",
       "    <tr>\n",
       "      <th>31</th>\n",
       "      <td>Mesaerion: The Best Science ...</td>\n",
       "      <td>In stock</td>\n",
       "      <td>37.59</td>\n",
       "      <td>One</td>\n",
       "      <td>Science Fiction</td>\n",
       "      <td>1</td>\n",
       "    </tr>\n",
       "    <tr>\n",
       "      <th>32</th>\n",
       "      <td>Join</td>\n",
       "      <td>In stock</td>\n",
       "      <td>35.67</td>\n",
       "      <td>Five</td>\n",
       "      <td>Science Fiction</td>\n",
       "      <td>5</td>\n",
       "    </tr>\n",
       "    <tr>\n",
       "      <th>33</th>\n",
       "      <td>William Shakespeare's Star Wars: ...</td>\n",
       "      <td>In stock</td>\n",
       "      <td>43.3</td>\n",
       "      <td>Four</td>\n",
       "      <td>Science Fiction</td>\n",
       "      <td>4</td>\n",
       "    </tr>\n",
       "    <tr>\n",
       "      <th>34</th>\n",
       "      <td>The Project</td>\n",
       "      <td>In stock</td>\n",
       "      <td>10.65</td>\n",
       "      <td>One</td>\n",
       "      <td>Science Fiction</td>\n",
       "      <td>1</td>\n",
       "    </tr>\n",
       "    <tr>\n",
       "      <th>35</th>\n",
       "      <td>Soft Apocalypse</td>\n",
       "      <td>In stock</td>\n",
       "      <td>26.12</td>\n",
       "      <td>Two</td>\n",
       "      <td>Science Fiction</td>\n",
       "      <td>2</td>\n",
       "    </tr>\n",
       "    <tr>\n",
       "      <th>36</th>\n",
       "      <td>Sleeping Giants (Themis Files ...</td>\n",
       "      <td>In stock</td>\n",
       "      <td>48.74</td>\n",
       "      <td>One</td>\n",
       "      <td>Science Fiction</td>\n",
       "      <td>1</td>\n",
       "    </tr>\n",
       "    <tr>\n",
       "      <th>37</th>\n",
       "      <td>Arena</td>\n",
       "      <td>In stock</td>\n",
       "      <td>21.36</td>\n",
       "      <td>Four</td>\n",
       "      <td>Science Fiction</td>\n",
       "      <td>4</td>\n",
       "    </tr>\n",
       "    <tr>\n",
       "      <th>38</th>\n",
       "      <td>Foundation (Foundation (Publication Order) ...</td>\n",
       "      <td>In stock</td>\n",
       "      <td>32.42</td>\n",
       "      <td>One</td>\n",
       "      <td>Science Fiction</td>\n",
       "      <td>1</td>\n",
       "    </tr>\n",
       "    <tr>\n",
       "      <th>39</th>\n",
       "      <td>The Restaurant at the ...</td>\n",
       "      <td>In stock</td>\n",
       "      <td>10.92</td>\n",
       "      <td>One</td>\n",
       "      <td>Science Fiction</td>\n",
       "      <td>1</td>\n",
       "    </tr>\n",
       "    <tr>\n",
       "      <th>40</th>\n",
       "      <td>Ready Player One</td>\n",
       "      <td>In stock</td>\n",
       "      <td>19.07</td>\n",
       "      <td>Four</td>\n",
       "      <td>Science Fiction</td>\n",
       "      <td>4</td>\n",
       "    </tr>\n",
       "    <tr>\n",
       "      <th>41</th>\n",
       "      <td>Life, the Universe and ...</td>\n",
       "      <td>In stock</td>\n",
       "      <td>33.26</td>\n",
       "      <td>Two</td>\n",
       "      <td>Science Fiction</td>\n",
       "      <td>2</td>\n",
       "    </tr>\n",
       "    <tr>\n",
       "      <th>42</th>\n",
       "      <td>Dune (Dune #1)</td>\n",
       "      <td>In stock</td>\n",
       "      <td>54.86</td>\n",
       "      <td>One</td>\n",
       "      <td>Science Fiction</td>\n",
       "      <td>1</td>\n",
       "    </tr>\n",
       "    <tr>\n",
       "      <th>43</th>\n",
       "      <td>Do Androids Dream of ...</td>\n",
       "      <td>In stock</td>\n",
       "      <td>51.48</td>\n",
       "      <td>One</td>\n",
       "      <td>Science Fiction</td>\n",
       "      <td>1</td>\n",
       "    </tr>\n",
       "    <tr>\n",
       "      <th>44</th>\n",
       "      <td>Three Wishes (River of ...</td>\n",
       "      <td>In stock</td>\n",
       "      <td>44.18</td>\n",
       "      <td>Two</td>\n",
       "      <td>Science Fiction</td>\n",
       "      <td>2</td>\n",
       "    </tr>\n",
       "    <tr>\n",
       "      <th>45</th>\n",
       "      <td>The Last Girl (The ...</td>\n",
       "      <td>In stock</td>\n",
       "      <td>36.26</td>\n",
       "      <td>Two</td>\n",
       "      <td>Science Fiction</td>\n",
       "      <td>2</td>\n",
       "    </tr>\n",
       "    <tr>\n",
       "      <th>46</th>\n",
       "      <td>Having the Barbarian's Baby ...</td>\n",
       "      <td>In stock</td>\n",
       "      <td>34.96</td>\n",
       "      <td>Four</td>\n",
       "      <td>Science Fiction</td>\n",
       "      <td>4</td>\n",
       "    </tr>\n",
       "  </tbody>\n",
       "</table>\n",
       "</div>"
      ],
      "text/plain": [
       "                                              name   storage price [£] rating  \\\n",
       "0                                The Secret Garden  In stock     15.08   Four   \n",
       "1                                The Metamorphosis  In stock     28.58    One   \n",
       "2                           The Pilgrim's Progress  In stock     50.26    Two   \n",
       "3                             The Hound of the ...  In stock     14.82    Two   \n",
       "4                   Little Women (Little Women ...  In stock     28.07   Four   \n",
       "5                               Gone with the Wind  In stock     32.49  Three   \n",
       "6                                          Candide  In stock     58.63  Three   \n",
       "7                                      Animal Farm  In stock     57.22  Three   \n",
       "8                                Wuthering Heights  In stock     17.73  Three   \n",
       "9                        The Picture of Dorian ...  In stock      29.7    Two   \n",
       "10                    The Complete Stories and ...  In stock     26.78   Four   \n",
       "11                                         Beowulf  In stock     38.35    Two   \n",
       "12                         And Then There Were ...  In stock     35.01    Two   \n",
       "13                           The Story of Hong ...  In stock     43.19   Four   \n",
       "14                               The Little Prince  In stock     45.42    Two   \n",
       "15                           Sense and Sensibility  In stock     37.46    One   \n",
       "16                                 Of Mice and Men  In stock     47.11    Two   \n",
       "17                                            Emma  In stock     32.93    Two   \n",
       "18                Alice in Wonderland (Alice's ...  In stock     55.53    One   \n",
       "19                    The Dirty Little Secrets ...  In stock     33.34   Four   \n",
       "20                          The Third Wave: An ...  In stock     12.61   Five   \n",
       "21                  The 10% Entrepreneur: Live ...  In stock     27.55  Three   \n",
       "22                          Shoe Dog: A Memoir ...  In stock     23.99    Two   \n",
       "23                          Made to Stick: Why ...  In stock     38.85   Five   \n",
       "24                     Quench Your Own Thirst: ...  In stock     43.14    One   \n",
       "25                          The Art of Startup ...  In stock      21.0  Three   \n",
       "26                          Born for This: How ...  In stock     21.59   Five   \n",
       "27                   The E-Myth Revisited: Why ...  In stock     36.91    One   \n",
       "28                              Rich Dad, Poor Dad  In stock     51.74    One   \n",
       "29                       The Lean Startup: How ...  In stock     33.92  Three   \n",
       "30                                          Rework  In stock     44.88    Two   \n",
       "31                 Mesaerion: The Best Science ...  In stock     37.59    One   \n",
       "32                                            Join  In stock     35.67   Five   \n",
       "33            William Shakespeare's Star Wars: ...  In stock      43.3   Four   \n",
       "34                                     The Project  In stock     10.65    One   \n",
       "35                                 Soft Apocalypse  In stock     26.12    Two   \n",
       "36               Sleeping Giants (Themis Files ...  In stock     48.74    One   \n",
       "37                                           Arena  In stock     21.36   Four   \n",
       "38  Foundation (Foundation (Publication Order) ...  In stock     32.42    One   \n",
       "39                       The Restaurant at the ...  In stock     10.92    One   \n",
       "40                                Ready Player One  In stock     19.07   Four   \n",
       "41                      Life, the Universe and ...  In stock     33.26    Two   \n",
       "42                                  Dune (Dune #1)  In stock     54.86    One   \n",
       "43                        Do Androids Dream of ...  In stock     51.48    One   \n",
       "44                      Three Wishes (River of ...  In stock     44.18    Two   \n",
       "45                          The Last Girl (The ...  In stock     36.26    Two   \n",
       "46                 Having the Barbarian's Baby ...  In stock     34.96   Four   \n",
       "\n",
       "              genre  rating_number  \n",
       "0           Classic              4  \n",
       "1           Classic              1  \n",
       "2           Classic              2  \n",
       "3           Classic              2  \n",
       "4           Classic              4  \n",
       "5           Classic              3  \n",
       "6           Classic              3  \n",
       "7           Classic              3  \n",
       "8           Classic              3  \n",
       "9           Classic              2  \n",
       "10          Classic              4  \n",
       "11          Classic              2  \n",
       "12          Classic              2  \n",
       "13          Classic              4  \n",
       "14          Classic              2  \n",
       "15          Classic              1  \n",
       "16          Classic              2  \n",
       "17          Classic              2  \n",
       "18          Classic              1  \n",
       "19         Business              4  \n",
       "20         Business              5  \n",
       "21         Business              3  \n",
       "22         Business              2  \n",
       "23         Business              5  \n",
       "24         Business              1  \n",
       "25         Business              3  \n",
       "26         Business              5  \n",
       "27         Business              1  \n",
       "28         Business              1  \n",
       "29         Business              3  \n",
       "30         Business              2  \n",
       "31  Science Fiction              1  \n",
       "32  Science Fiction              5  \n",
       "33  Science Fiction              4  \n",
       "34  Science Fiction              1  \n",
       "35  Science Fiction              2  \n",
       "36  Science Fiction              1  \n",
       "37  Science Fiction              4  \n",
       "38  Science Fiction              1  \n",
       "39  Science Fiction              1  \n",
       "40  Science Fiction              4  \n",
       "41  Science Fiction              2  \n",
       "42  Science Fiction              1  \n",
       "43  Science Fiction              1  \n",
       "44  Science Fiction              2  \n",
       "45  Science Fiction              2  \n",
       "46  Science Fiction              4  "
      ]
     },
     "execution_count": 26,
     "metadata": {},
     "output_type": "execute_result"
    }
   ],
   "source": [
    "data_total"
   ]
  },
  {
   "cell_type": "markdown",
   "id": "4c27d49a",
   "metadata": {},
   "source": [
    "## 2.0 Plots | Data Exploratory"
   ]
  },
  {
   "cell_type": "markdown",
   "id": "92478ad4",
   "metadata": {},
   "source": [
    "Temos mais Livros avalidos do gênero Clássico"
   ]
  },
  {
   "cell_type": "code",
   "execution_count": 27,
   "id": "c972b334",
   "metadata": {
    "scrolled": false
   },
   "outputs": [
    {
     "data": {
      "image/png": "[encoded data removed]",
      "text/plain": [
       "<Figure size 432x288 with 1 Axes>"
      ]
     },
     "metadata": {
      "needs_background": "light"
     },
     "output_type": "display_data"
    }
   ],
   "source": [
    "sns.countplot(x='genre',data=data_total);"
   ]
  },
  {
   "cell_type": "markdown",
   "id": "904265d5",
   "metadata": {},
   "source": [
    "Alguns livros que costumam desnortear no boxplot. Chegam mais acima do primeiro quartil"
   ]
  },
  {
   "cell_type": "code",
   "execution_count": 28,
   "id": "3db2c434",
   "metadata": {
    "scrolled": true
   },
   "outputs": [
    {
     "data": {
      "image/png": "[encoded data removed]",
      "text/plain": [
       "<Figure size 432x288 with 1 Axes>"
      ]
     },
     "metadata": {
      "needs_background": "light"
     },
     "output_type": "display_data"
    }
   ],
   "source": [
    "sns.boxplot(x=\"genre\", y=\"price [£]\", data=data_total,palette='rainbow');\n",
    "sns.stripplot(x=\"genre\", y=\"price [£]\", data=data_total,palette='rainbow');"
   ]
  },
  {
   "cell_type": "markdown",
   "id": "82590cab",
   "metadata": {},
   "source": [
    "Maior preço médio é dos livros clássicos"
   ]
  },
  {
   "cell_type": "code",
   "execution_count": 29,
   "id": "25732d8c",
   "metadata": {},
   "outputs": [],
   "source": [
    "df = data_total.copy()\n",
    "teste = df[['genre', 'price [£]']].groupby('genre').mean().reset_index()"
   ]
  },
  {
   "cell_type": "code",
   "execution_count": 30,
   "id": "e3832e61",
   "metadata": {
    "scrolled": true
   },
   "outputs": [
    {
     "data": {
      "image/png": "[encoded data removed]",
      "text/plain": [
       "<Figure size 432x288 with 1 Axes>"
      ]
     },
     "metadata": {
      "needs_background": "light"
     },
     "output_type": "display_data"
    }
   ],
   "source": [
    "sns.barplot(x=\"genre\", y=\"price [£]\",data=teste);"
   ]
  },
  {
   "cell_type": "markdown",
   "id": "85115b57",
   "metadata": {},
   "source": [
    "#### Livros clássicos "
   ]
  },
  {
   "cell_type": "code",
   "execution_count": 31,
   "id": "6a444a33",
   "metadata": {
    "scrolled": true
   },
   "outputs": [
    {
     "data": {
      "image/png": "[encoded data removed]",
      "text/plain": [
       "<Figure size 432x288 with 1 Axes>"
      ]
     },
     "metadata": {
      "needs_background": "light"
     },
     "output_type": "display_data"
    }
   ],
   "source": [
    "sns.countplot(x='rating',data=data_classic);"
   ]
  },
  {
   "cell_type": "markdown",
   "id": "4acd5cda",
   "metadata": {},
   "source": [
    "#### Livros Científicos \n"
   ]
  },
  {
   "cell_type": "code",
   "execution_count": 32,
   "id": "53c6d611",
   "metadata": {
    "scrolled": true
   },
   "outputs": [
    {
     "data": {
      "image/png": "[encoded data removed]",
      "text/plain": [
       "<Figure size 432x288 with 1 Axes>"
      ]
     },
     "metadata": {
      "needs_background": "light"
     },
     "output_type": "display_data"
    }
   ],
   "source": [
    "sns.countplot(x='rating',data=data_science);"
   ]
  },
  {
   "cell_type": "markdown",
   "id": "2838176b",
   "metadata": {},
   "source": [
    "#### Livros de Negócios "
   ]
  },
  {
   "cell_type": "code",
   "execution_count": 33,
   "id": "1fc605bc",
   "metadata": {},
   "outputs": [
    {
     "data": {
      "image/png": "[encoded data removed]",
      "text/plain": [
       "<Figure size 432x288 with 1 Axes>"
      ]
     },
     "metadata": {
      "needs_background": "light"
     },
     "output_type": "display_data"
    }
   ],
   "source": [
    "sns.countplot(x='rating',data=data_bus);"
   ]
  },
  {
   "cell_type": "markdown",
   "id": "546605cd",
   "metadata": {},
   "source": [
    "### 3.0 Conclusão"
   ]
  },
  {
   "cell_type": "markdown",
   "id": "e38c3787",
   "metadata": {},
   "source": [
    "H1. **FALSA** O gênero com maior preço médio tem melhores avaliações. "
   ]
  },
  {
   "cell_type": "markdown",
   "id": "334060cb",
   "metadata": {},
   "source": [
    "Como vimos no gráfico o maior preço médio é do gênero Clássico. Porém a melhor avaliação de todos os gênero está para o \"negócios\". Com isso, não necessariamente o gênero com maior preço médio é o que tem melhores avaliações"
   ]
  },
  {
   "cell_type": "markdown",
   "id": "aa0e0343",
   "metadata": {},
   "source": [
    "H2. **VERDADEIRO**  O Gênero de Negócios tem o melhor rating de todos os gêneros "
   ]
  },
  {
   "cell_type": "markdown",
   "id": "c82cef49",
   "metadata": {},
   "source": [
    "No gráfico acima conseguimos observar que o gênero \"Negócios\" (Business) é o que tem melhores avaliações, tendo notas 5 estrelas e uma grande maioria de notas de Três estrelas"
   ]
  }
 ],
 "metadata": {
  "kernelspec": {
   "display_name": "Python 3 (ipykernel)",
   "language": "python",
   "name": "python3"
  },
  "language_info": {
   "codemirror_mode": {
    "name": "ipython",
    "version": 3
   },
   "file_extension": ".py",
   "mimetype": "text/x-python",
   "name": "python",
   "nbconvert_exporter": "python",
   "pygments_lexer": "ipython3",
   "version": "3.9.7"
  }
 },
 "nbformat": 4,
 "nbformat_minor": 5
}
